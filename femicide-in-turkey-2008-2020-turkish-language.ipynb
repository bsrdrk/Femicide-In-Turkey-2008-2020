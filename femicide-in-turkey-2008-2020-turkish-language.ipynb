{
 "cells": [
  {
   "cell_type": "markdown",
   "execution_count": null,
   "metadata": {
    "papermill": {
     "duration": 0.013238,
     "end_time": "2020-08-21T23:57:05.151532",
     "exception": false,
     "start_time": "2020-08-21T23:57:05.138294",
     "status": "completed"
    },
    "tags": []
   },
   "source": [
    "# Türkiye'de Ocak 2008 ve Ağustos 2020 Arasındaki Kadın Cinayetleri\n",
    "\n",
    "<font color = \"blue\">\n",
    "İçerik:\n",
    "\n",
    "1. [Verinin Yüklenmesi ve Kontrol Edilmesi](#1)\n",
    "2. [Veri Tanımlaması](#2)\n",
    "3. [Sayısal Değerlerin Belirlenmesi](#3)\n",
    "4. [Sorgular ve Verilerin Görselleştirilmesi](#4)\n",
    "    * [Ocak 2008 ve Ağustos 2020 Tarihleri Arasında Ölen Kadınlar Histogram Grafiği](#5)\n",
    "    * [Öldürülme Şekli Pie Chart Grafiği](#6)\n",
    "    * [Koruma Kararı Pie Chart Grafiği](#7)\n",
    "    * [Katillerin Durumu Pie Chart Grafiği](#8)\n",
    "    * [Kim Tarafından Öldürüldüğü Bar Plot Grafiği](#9)\n",
    "        * [1. Dereceden Kan Bağı Olanlar Tarafından](#10)\n",
    "        * [Duygusal İlişki Kurulan İnsanlar Tarafından](#11)\n",
    "    * [Bölgelere Göre Pie Chart Grafiği](#12)\n",
    "    * [Sehirlere Göre Pie Chart Grafiği](#13)\n",
    "    * [Öldürülme Sebeplerine Göre Pie Chart Grafiği](#14) \n",
    "5. [Kaynaklar](#15)\n",
    "6. [Teammate](#16)\n"
   ]
  },
  {
   "cell_type": "code",
   "execution_count": 1,
   "metadata": {
    "_cell_guid": "b1076dfc-b9ad-4769-8c92-a6c4dae69d19",
    "_uuid": "8f2839f25d086af736a60e9eeb907d3b93b6e0e5",
    "execution": {
     "iopub.execute_input": "2020-08-21T23:57:05.184752Z",
     "iopub.status.busy": "2020-08-21T23:57:05.183893Z",
     "iopub.status.idle": "2020-08-21T23:57:06.349129Z",
     "shell.execute_reply": "2020-08-21T23:57:06.348353Z"
    },
    "papermill": {
     "duration": 1.184278,
     "end_time": "2020-08-21T23:57:06.349281",
     "exception": false,
     "start_time": "2020-08-21T23:57:05.165003",
     "status": "completed"
    },
    "tags": []
   },
   "outputs": [
    {
     "name": "stdout",
     "output_type": "stream",
     "text": [
      "/kaggle/input/woman-murdering-in-turkey-20082020/women_who_have_been_murdered_in_turkey.csv\n"
     ]
    }
   ],
   "source": [
    "# This Python 3 environment comes with many helpful analytics libraries installed\n",
    "# It is defined by the kaggle/python Docker image: https://github.com/kaggle/docker-python\n",
    "# For example, here's several helpful packages to load\n",
    "\n",
    "import numpy as np # linear algebra\n",
    "import pandas as pd # data processing, CSV file I/O (e.g. pd.read_csv)\n",
    "import seaborn as sns\n",
    "import matplotlib.pyplot as plt\n",
    "\n",
    "# Input data files are available in the read-only \"../input/\" directory\n",
    "# For example, running this (by clicking run or pressing Shift+Enter) will list all files under the input directory\n",
    "\n",
    "import os\n",
    "for dirname, _, filenames in os.walk('/kaggle/input'):\n",
    "    for filename in filenames:\n",
    "        print(os.path.join(dirname, filename))\n",
    "\n",
    "# You can write up to 5GB to the current directory (/kaggle/working/) that gets preserved as output when you create a version using \"Save & Run All\" \n",
    "# You can also write temporary files to /kaggle/temp/, but they won't be saved outside of the current session"
   ]
  },
  {
   "cell_type": "markdown",
   "execution_count": null,
   "metadata": {
    "papermill": {
     "duration": 0.010687,
     "end_time": "2020-08-21T23:57:06.371255",
     "exception": false,
     "start_time": "2020-08-21T23:57:06.360568",
     "status": "completed"
    },
    "tags": []
   },
   "source": [
    "<a id = \"1\"></a>\n",
    "## Verinin Yüklenmesi ve Kontrol Edilmesi"
   ]
  },
  {
   "cell_type": "code",
   "execution_count": 2,
   "metadata": {
    "_cell_guid": "79c7e3d0-c299-4dcb-8224-4455121ee9b0",
    "_uuid": "d629ff2d2480ee46fbb7e2d37f6b5fab8052498a",
    "execution": {
     "iopub.execute_input": "2020-08-21T23:57:06.403219Z",
     "iopub.status.busy": "2020-08-21T23:57:06.402403Z",
     "iopub.status.idle": "2020-08-21T23:57:06.456036Z",
     "shell.execute_reply": "2020-08-21T23:57:06.456636Z"
    },
    "papermill": {
     "duration": 0.074674,
     "end_time": "2020-08-21T23:57:06.456805",
     "exception": false,
     "start_time": "2020-08-21T23:57:06.382131",
     "status": "completed"
    },
    "tags": []
   },
   "outputs": [
    {
     "data": {
      "text/html": [
       "<div>\n",
       "<style scoped>\n",
       "    .dataframe tbody tr th:only-of-type {\n",
       "        vertical-align: middle;\n",
       "    }\n",
       "\n",
       "    .dataframe tbody tr th {\n",
       "        vertical-align: top;\n",
       "    }\n",
       "\n",
       "    .dataframe thead th {\n",
       "        text-align: right;\n",
       "    }\n",
       "</style>\n",
       "<table border=\"1\" class=\"dataframe\">\n",
       "  <thead>\n",
       "    <tr style=\"text-align: right;\">\n",
       "      <th></th>\n",
       "      <th>id</th>\n",
       "      <th>city</th>\n",
       "      <th>age</th>\n",
       "      <th>date</th>\n",
       "      <th>protectionorder</th>\n",
       "      <th>why1</th>\n",
       "      <th>why2</th>\n",
       "      <th>killer1</th>\n",
       "      <th>killer2</th>\n",
       "      <th>killingway1</th>\n",
       "      <th>killingway2</th>\n",
       "      <th>killingway3</th>\n",
       "      <th>statusofkiller</th>\n",
       "      <th>year</th>\n",
       "    </tr>\n",
       "  </thead>\n",
       "  <tbody>\n",
       "    <tr>\n",
       "      <th>0</th>\n",
       "      <td>1</td>\n",
       "      <td>Adana</td>\n",
       "      <td>Resit</td>\n",
       "      <td>01/02/2008</td>\n",
       "      <td>Tespit Edilemeyen</td>\n",
       "      <td>Erkegin istedigi bir seyin gerceklesmemesi seb...</td>\n",
       "      <td>NaN</td>\n",
       "      <td>Kocasi</td>\n",
       "      <td>NaN</td>\n",
       "      <td>Atesli Silah</td>\n",
       "      <td>NaN</td>\n",
       "      <td>NaN</td>\n",
       "      <td>NaN</td>\n",
       "      <td>2008.0</td>\n",
       "    </tr>\n",
       "    <tr>\n",
       "      <th>1</th>\n",
       "      <td>2</td>\n",
       "      <td>Adana</td>\n",
       "      <td>NaN</td>\n",
       "      <td>01/12/2008</td>\n",
       "      <td>Yok</td>\n",
       "      <td>Tespit Edilemeyen</td>\n",
       "      <td>NaN</td>\n",
       "      <td>Sevgilisi</td>\n",
       "      <td>NaN</td>\n",
       "      <td>Atesli Silah</td>\n",
       "      <td>NaN</td>\n",
       "      <td>NaN</td>\n",
       "      <td>Intihar</td>\n",
       "      <td>2008.0</td>\n",
       "    </tr>\n",
       "    <tr>\n",
       "      <th>2</th>\n",
       "      <td>3</td>\n",
       "      <td>Adana</td>\n",
       "      <td>Resit Degil</td>\n",
       "      <td>01/02/2008</td>\n",
       "      <td>Yok</td>\n",
       "      <td>Tespit Edilemeyen</td>\n",
       "      <td>NaN</td>\n",
       "      <td>Babasi</td>\n",
       "      <td>NaN</td>\n",
       "      <td>Darp</td>\n",
       "      <td>NaN</td>\n",
       "      <td>NaN</td>\n",
       "      <td>Tutuklu</td>\n",
       "      <td>2008.0</td>\n",
       "    </tr>\n",
       "    <tr>\n",
       "      <th>3</th>\n",
       "      <td>4</td>\n",
       "      <td>Adana</td>\n",
       "      <td>NaN</td>\n",
       "      <td>01/04/2008</td>\n",
       "      <td>Yok</td>\n",
       "      <td>Tespit Edilemeyen</td>\n",
       "      <td>NaN</td>\n",
       "      <td>Eski Sevgilisi</td>\n",
       "      <td>NaN</td>\n",
       "      <td>Atesli Silah</td>\n",
       "      <td>NaN</td>\n",
       "      <td>NaN</td>\n",
       "      <td>Intihar</td>\n",
       "      <td>2008.0</td>\n",
       "    </tr>\n",
       "    <tr>\n",
       "      <th>4</th>\n",
       "      <td>5</td>\n",
       "      <td>Ankara</td>\n",
       "      <td>NaN</td>\n",
       "      <td>01/12/2008</td>\n",
       "      <td>Tespit Edilemeyen</td>\n",
       "      <td>Tespit Edilemeyen</td>\n",
       "      <td>NaN</td>\n",
       "      <td>Tespit Edilemeyen</td>\n",
       "      <td>NaN</td>\n",
       "      <td>Tespit Edilemeyen</td>\n",
       "      <td>NaN</td>\n",
       "      <td>NaN</td>\n",
       "      <td>Tespit Edilemeyen</td>\n",
       "      <td>2008.0</td>\n",
       "    </tr>\n",
       "  </tbody>\n",
       "</table>\n",
       "</div>"
      ],
      "text/plain": [
       "   id      city            age          date         protectionorder  \\\n",
       "0   1    Adana           Resit    01/02/2008     Tespit Edilemeyen     \n",
       "1   2    Adana             NaN    01/12/2008                    Yok    \n",
       "2   3    Adana    Resit Degil    01/02/2008                     Yok    \n",
       "3   4    Adana             NaN   01/04/2008                     Yok    \n",
       "4   5   Ankara             NaN   01/12/2008       Tespit Edilemeyen    \n",
       "\n",
       "                                                why1 why2            killer1  \\\n",
       "0  Erkegin istedigi bir seyin gerceklesmemesi seb...  NaN             Kocasi   \n",
       "1                                  Tespit Edilemeyen  NaN          Sevgilisi   \n",
       "2                                  Tespit Edilemeyen  NaN             Babasi   \n",
       "3                                  Tespit Edilemeyen  NaN     Eski Sevgilisi   \n",
       "4                                  Tespit Edilemeyen  NaN  Tespit Edilemeyen   \n",
       "\n",
       "  killer2        killingway1 killingway2 killingway3      statusofkiller  \\\n",
       "0     NaN       Atesli Silah         NaN         NaN                 NaN   \n",
       "1     NaN       Atesli Silah         NaN         NaN            Intihar    \n",
       "2     NaN               Darp         NaN         NaN            Tutuklu    \n",
       "3     NaN       Atesli Silah         NaN         NaN            Intihar    \n",
       "4     NaN  Tespit Edilemeyen         NaN         NaN   Tespit Edilemeyen   \n",
       "\n",
       "     year  \n",
       "0  2008.0  \n",
       "1  2008.0  \n",
       "2  2008.0  \n",
       "3  2008.0  \n",
       "4  2008.0  "
      ]
     },
     "execution_count": 2,
     "metadata": {},
     "output_type": "execute_result"
    }
   ],
   "source": [
    "data = pd.read_csv('/kaggle/input/woman-murdering-in-turkey-20082020/women_who_have_been_murdered_in_turkey.csv')\n",
    "data.head() "
   ]
  },
  {
   "cell_type": "code",
   "execution_count": 3,
   "metadata": {
    "execution": {
     "iopub.execute_input": "2020-08-21T23:57:06.487353Z",
     "iopub.status.busy": "2020-08-21T23:57:06.486564Z",
     "iopub.status.idle": "2020-08-21T23:57:06.664948Z",
     "shell.execute_reply": "2020-08-21T23:57:06.664097Z"
    },
    "papermill": {
     "duration": 0.196878,
     "end_time": "2020-08-21T23:57:06.665079",
     "exception": false,
     "start_time": "2020-08-21T23:57:06.468201",
     "status": "completed"
    },
    "tags": []
   },
   "outputs": [],
   "source": [
    "data = data.replace({\"^\\s*|\\s*$\":\"\"}, regex=True) #verilerimizdeki boslukları yok edebilmek için\n",
    "year = data['year'] = data['year'].astype('int') #yearımızın degeri float olarak görünüyor o yüzden int e çevirdik\n",
    "data['city'] = data['city'].astype('str')\n"
   ]
  },
  {
   "cell_type": "code",
   "execution_count": 4,
   "metadata": {
    "execution": {
     "iopub.execute_input": "2020-08-21T23:57:06.700414Z",
     "iopub.status.busy": "2020-08-21T23:57:06.699490Z",
     "iopub.status.idle": "2020-08-21T23:57:06.704107Z",
     "shell.execute_reply": "2020-08-21T23:57:06.703442Z"
    },
    "papermill": {
     "duration": 0.024579,
     "end_time": "2020-08-21T23:57:06.704273",
     "exception": false,
     "start_time": "2020-08-21T23:57:06.679694",
     "status": "completed"
    },
    "tags": []
   },
   "outputs": [
    {
     "data": {
      "text/plain": [
       "Index(['id', 'city', 'age', 'date', 'protectionorder', 'why1', 'why2',\n",
       "       'killer1', 'killer2', 'killingway1', 'killingway2', 'killingway3',\n",
       "       'statusofkiller', 'year'],\n",
       "      dtype='object')"
      ]
     },
     "execution_count": 4,
     "metadata": {},
     "output_type": "execute_result"
    }
   ],
   "source": [
    "data.columns"
   ]
  },
  {
   "cell_type": "code",
   "execution_count": 5,
   "metadata": {
    "execution": {
     "iopub.execute_input": "2020-08-21T23:57:06.738836Z",
     "iopub.status.busy": "2020-08-21T23:57:06.733757Z",
     "iopub.status.idle": "2020-08-21T23:57:06.757413Z",
     "shell.execute_reply": "2020-08-21T23:57:06.756796Z"
    },
    "papermill": {
     "duration": 0.041034,
     "end_time": "2020-08-21T23:57:06.757549",
     "exception": false,
     "start_time": "2020-08-21T23:57:06.716515",
     "status": "completed"
    },
    "tags": []
   },
   "outputs": [
    {
     "name": "stdout",
     "output_type": "stream",
     "text": [
      "<class 'pandas.core.frame.DataFrame'>\n",
      "RangeIndex: 3111 entries, 0 to 3110\n",
      "Data columns (total 14 columns):\n",
      " #   Column           Non-Null Count  Dtype \n",
      "---  ------           --------------  ----- \n",
      " 0   id               3111 non-null   int64 \n",
      " 1   city             3111 non-null   object\n",
      " 2   age              1320 non-null   object\n",
      " 3   date             3111 non-null   object\n",
      " 4   protectionorder  3109 non-null   object\n",
      " 5   why1             3110 non-null   object\n",
      " 6   why2             70 non-null     object\n",
      " 7   killer1          3107 non-null   object\n",
      " 8   killer2          14 non-null     object\n",
      " 9   killingway1      3111 non-null   object\n",
      " 10  killingway2      70 non-null     object\n",
      " 11  killingway3      6 non-null      object\n",
      " 12  statusofkiller   1767 non-null   object\n",
      " 13  year             3111 non-null   int64 \n",
      "dtypes: int64(2), object(12)\n",
      "memory usage: 340.4+ KB\n"
     ]
    }
   ],
   "source": [
    "data.info()"
   ]
  },
  {
   "cell_type": "code",
   "execution_count": 6,
   "metadata": {
    "execution": {
     "iopub.execute_input": "2020-08-21T23:57:06.803769Z",
     "iopub.status.busy": "2020-08-21T23:57:06.802752Z",
     "iopub.status.idle": "2020-08-21T23:57:06.807765Z",
     "shell.execute_reply": "2020-08-21T23:57:06.807140Z"
    },
    "papermill": {
     "duration": 0.038384,
     "end_time": "2020-08-21T23:57:06.807899",
     "exception": false,
     "start_time": "2020-08-21T23:57:06.769515",
     "status": "completed"
    },
    "tags": []
   },
   "outputs": [
    {
     "data": {
      "text/html": [
       "<div>\n",
       "<style scoped>\n",
       "    .dataframe tbody tr th:only-of-type {\n",
       "        vertical-align: middle;\n",
       "    }\n",
       "\n",
       "    .dataframe tbody tr th {\n",
       "        vertical-align: top;\n",
       "    }\n",
       "\n",
       "    .dataframe thead th {\n",
       "        text-align: right;\n",
       "    }\n",
       "</style>\n",
       "<table border=\"1\" class=\"dataframe\">\n",
       "  <thead>\n",
       "    <tr style=\"text-align: right;\">\n",
       "      <th></th>\n",
       "      <th>id</th>\n",
       "      <th>city</th>\n",
       "      <th>age</th>\n",
       "      <th>date</th>\n",
       "      <th>protectionorder</th>\n",
       "      <th>why1</th>\n",
       "      <th>why2</th>\n",
       "      <th>killer1</th>\n",
       "      <th>killer2</th>\n",
       "      <th>killingway1</th>\n",
       "      <th>killingway2</th>\n",
       "      <th>killingway3</th>\n",
       "      <th>statusofkiller</th>\n",
       "      <th>year</th>\n",
       "    </tr>\n",
       "  </thead>\n",
       "  <tbody>\n",
       "    <tr>\n",
       "      <th>3106</th>\n",
       "      <td>3111</td>\n",
       "      <td>Van</td>\n",
       "      <td>Resit</td>\n",
       "      <td>19/01/2013</td>\n",
       "      <td>Yok</td>\n",
       "      <td>Tespit Edilemeyen</td>\n",
       "      <td>NaN</td>\n",
       "      <td>Kocasi</td>\n",
       "      <td>NaN</td>\n",
       "      <td>Bogulma</td>\n",
       "      <td>NaN</td>\n",
       "      <td>NaN</td>\n",
       "      <td>Tutuklu</td>\n",
       "      <td>2013</td>\n",
       "    </tr>\n",
       "    <tr>\n",
       "      <th>3107</th>\n",
       "      <td>3112</td>\n",
       "      <td>Istanbul</td>\n",
       "      <td>Resit</td>\n",
       "      <td>22/01/2013</td>\n",
       "      <td>Var</td>\n",
       "      <td>Tespit Edilemeyen</td>\n",
       "      <td>NaN</td>\n",
       "      <td>Kocasi</td>\n",
       "      <td>NaN</td>\n",
       "      <td>Atesli Silah</td>\n",
       "      <td>NaN</td>\n",
       "      <td>NaN</td>\n",
       "      <td>NaN</td>\n",
       "      <td>2013</td>\n",
       "    </tr>\n",
       "    <tr>\n",
       "      <th>3108</th>\n",
       "      <td>3113</td>\n",
       "      <td>Kars</td>\n",
       "      <td>Resit</td>\n",
       "      <td>23/01/2013</td>\n",
       "      <td>Yok</td>\n",
       "      <td>Kiskanclik</td>\n",
       "      <td>NaN</td>\n",
       "      <td>Eski Kocasi</td>\n",
       "      <td>NaN</td>\n",
       "      <td>Atesli Silah</td>\n",
       "      <td>NaN</td>\n",
       "      <td>NaN</td>\n",
       "      <td>NaN</td>\n",
       "      <td>2013</td>\n",
       "    </tr>\n",
       "    <tr>\n",
       "      <th>3109</th>\n",
       "      <td>3114</td>\n",
       "      <td>Samsun</td>\n",
       "      <td>Resit</td>\n",
       "      <td>26/02/2013</td>\n",
       "      <td>Yok</td>\n",
       "      <td>Tespit Edilemeyen</td>\n",
       "      <td>NaN</td>\n",
       "      <td>Eski Sevgilisi</td>\n",
       "      <td>NaN</td>\n",
       "      <td>Atesli Silah</td>\n",
       "      <td>NaN</td>\n",
       "      <td>NaN</td>\n",
       "      <td>Tutuklu</td>\n",
       "      <td>2013</td>\n",
       "    </tr>\n",
       "    <tr>\n",
       "      <th>3110</th>\n",
       "      <td>3115</td>\n",
       "      <td>Hatay</td>\n",
       "      <td>Resit</td>\n",
       "      <td>02/03/2013</td>\n",
       "      <td>Yok</td>\n",
       "      <td>Tespit Edilemeyen</td>\n",
       "      <td>NaN</td>\n",
       "      <td>Eski Kocasi</td>\n",
       "      <td>NaN</td>\n",
       "      <td>Atesli Silah</td>\n",
       "      <td>NaN</td>\n",
       "      <td>NaN</td>\n",
       "      <td>Tespit Edilemeyen</td>\n",
       "      <td>2013</td>\n",
       "    </tr>\n",
       "  </tbody>\n",
       "</table>\n",
       "</div>"
      ],
      "text/plain": [
       "        id      city    age        date protectionorder               why1  \\\n",
       "3106  3111       Van  Resit  19/01/2013             Yok  Tespit Edilemeyen   \n",
       "3107  3112  Istanbul  Resit  22/01/2013             Var  Tespit Edilemeyen   \n",
       "3108  3113      Kars  Resit  23/01/2013             Yok         Kiskanclik   \n",
       "3109  3114    Samsun  Resit  26/02/2013             Yok  Tespit Edilemeyen   \n",
       "3110  3115     Hatay  Resit  02/03/2013             Yok  Tespit Edilemeyen   \n",
       "\n",
       "     why2         killer1 killer2   killingway1 killingway2 killingway3  \\\n",
       "3106  NaN          Kocasi     NaN       Bogulma         NaN         NaN   \n",
       "3107  NaN          Kocasi     NaN  Atesli Silah         NaN         NaN   \n",
       "3108  NaN     Eski Kocasi     NaN  Atesli Silah         NaN         NaN   \n",
       "3109  NaN  Eski Sevgilisi     NaN  Atesli Silah         NaN         NaN   \n",
       "3110  NaN     Eski Kocasi     NaN  Atesli Silah         NaN         NaN   \n",
       "\n",
       "         statusofkiller  year  \n",
       "3106            Tutuklu  2013  \n",
       "3107                NaN  2013  \n",
       "3108                NaN  2013  \n",
       "3109            Tutuklu  2013  \n",
       "3110  Tespit Edilemeyen  2013  "
      ]
     },
     "execution_count": 6,
     "metadata": {},
     "output_type": "execute_result"
    }
   ],
   "source": [
    "data.tail()"
   ]
  },
  {
   "cell_type": "code",
   "execution_count": 7,
   "metadata": {
    "execution": {
     "iopub.execute_input": "2020-08-21T23:57:06.863842Z",
     "iopub.status.busy": "2020-08-21T23:57:06.862746Z",
     "iopub.status.idle": "2020-08-21T23:57:06.867735Z",
     "shell.execute_reply": "2020-08-21T23:57:06.868285Z"
    },
    "papermill": {
     "duration": 0.04831,
     "end_time": "2020-08-21T23:57:06.868462",
     "exception": false,
     "start_time": "2020-08-21T23:57:06.820152",
     "status": "completed"
    },
    "tags": []
   },
   "outputs": [
    {
     "data": {
      "text/html": [
       "<div>\n",
       "<style scoped>\n",
       "    .dataframe tbody tr th:only-of-type {\n",
       "        vertical-align: middle;\n",
       "    }\n",
       "\n",
       "    .dataframe tbody tr th {\n",
       "        vertical-align: top;\n",
       "    }\n",
       "\n",
       "    .dataframe thead th {\n",
       "        text-align: right;\n",
       "    }\n",
       "</style>\n",
       "<table border=\"1\" class=\"dataframe\">\n",
       "  <thead>\n",
       "    <tr style=\"text-align: right;\">\n",
       "      <th></th>\n",
       "      <th>id</th>\n",
       "      <th>city</th>\n",
       "      <th>age</th>\n",
       "      <th>date</th>\n",
       "      <th>protectionorder</th>\n",
       "      <th>why1</th>\n",
       "      <th>why2</th>\n",
       "      <th>killer1</th>\n",
       "      <th>killer2</th>\n",
       "      <th>killingway1</th>\n",
       "      <th>killingway2</th>\n",
       "      <th>killingway3</th>\n",
       "      <th>statusofkiller</th>\n",
       "      <th>year</th>\n",
       "    </tr>\n",
       "  </thead>\n",
       "  <tbody>\n",
       "    <tr>\n",
       "      <th>0</th>\n",
       "      <td>1</td>\n",
       "      <td>Adana</td>\n",
       "      <td>Resit</td>\n",
       "      <td>01/02/2008</td>\n",
       "      <td>Tespit Edilemeyen</td>\n",
       "      <td>Erkegin istedigi bir seyin gerceklesmemesi seb...</td>\n",
       "      <td>NaN</td>\n",
       "      <td>Kocasi</td>\n",
       "      <td>NaN</td>\n",
       "      <td>Atesli Silah</td>\n",
       "      <td>NaN</td>\n",
       "      <td>NaN</td>\n",
       "      <td>NaN</td>\n",
       "      <td>2008</td>\n",
       "    </tr>\n",
       "    <tr>\n",
       "      <th>1</th>\n",
       "      <td>2</td>\n",
       "      <td>Adana</td>\n",
       "      <td>NaN</td>\n",
       "      <td>01/12/2008</td>\n",
       "      <td>Yok</td>\n",
       "      <td>Tespit Edilemeyen</td>\n",
       "      <td>NaN</td>\n",
       "      <td>Sevgilisi</td>\n",
       "      <td>NaN</td>\n",
       "      <td>Atesli Silah</td>\n",
       "      <td>NaN</td>\n",
       "      <td>NaN</td>\n",
       "      <td>Intihar</td>\n",
       "      <td>2008</td>\n",
       "    </tr>\n",
       "    <tr>\n",
       "      <th>2</th>\n",
       "      <td>3</td>\n",
       "      <td>Adana</td>\n",
       "      <td>Resit Degil</td>\n",
       "      <td>01/02/2008</td>\n",
       "      <td>Yok</td>\n",
       "      <td>Tespit Edilemeyen</td>\n",
       "      <td>NaN</td>\n",
       "      <td>Babasi</td>\n",
       "      <td>NaN</td>\n",
       "      <td>Darp</td>\n",
       "      <td>NaN</td>\n",
       "      <td>NaN</td>\n",
       "      <td>Tutuklu</td>\n",
       "      <td>2008</td>\n",
       "    </tr>\n",
       "    <tr>\n",
       "      <th>3</th>\n",
       "      <td>4</td>\n",
       "      <td>Adana</td>\n",
       "      <td>NaN</td>\n",
       "      <td>01/04/2008</td>\n",
       "      <td>Yok</td>\n",
       "      <td>Tespit Edilemeyen</td>\n",
       "      <td>NaN</td>\n",
       "      <td>Eski Sevgilisi</td>\n",
       "      <td>NaN</td>\n",
       "      <td>Atesli Silah</td>\n",
       "      <td>NaN</td>\n",
       "      <td>NaN</td>\n",
       "      <td>Intihar</td>\n",
       "      <td>2008</td>\n",
       "    </tr>\n",
       "    <tr>\n",
       "      <th>4</th>\n",
       "      <td>5</td>\n",
       "      <td>Ankara</td>\n",
       "      <td>NaN</td>\n",
       "      <td>01/12/2008</td>\n",
       "      <td>Tespit Edilemeyen</td>\n",
       "      <td>Tespit Edilemeyen</td>\n",
       "      <td>NaN</td>\n",
       "      <td>Tespit Edilemeyen</td>\n",
       "      <td>NaN</td>\n",
       "      <td>Tespit Edilemeyen</td>\n",
       "      <td>NaN</td>\n",
       "      <td>NaN</td>\n",
       "      <td>Tespit Edilemeyen</td>\n",
       "      <td>2008</td>\n",
       "    </tr>\n",
       "    <tr>\n",
       "      <th>...</th>\n",
       "      <td>...</td>\n",
       "      <td>...</td>\n",
       "      <td>...</td>\n",
       "      <td>...</td>\n",
       "      <td>...</td>\n",
       "      <td>...</td>\n",
       "      <td>...</td>\n",
       "      <td>...</td>\n",
       "      <td>...</td>\n",
       "      <td>...</td>\n",
       "      <td>...</td>\n",
       "      <td>...</td>\n",
       "      <td>...</td>\n",
       "      <td>...</td>\n",
       "    </tr>\n",
       "    <tr>\n",
       "      <th>3106</th>\n",
       "      <td>3111</td>\n",
       "      <td>Van</td>\n",
       "      <td>Resit</td>\n",
       "      <td>19/01/2013</td>\n",
       "      <td>Yok</td>\n",
       "      <td>Tespit Edilemeyen</td>\n",
       "      <td>NaN</td>\n",
       "      <td>Kocasi</td>\n",
       "      <td>NaN</td>\n",
       "      <td>Bogulma</td>\n",
       "      <td>NaN</td>\n",
       "      <td>NaN</td>\n",
       "      <td>Tutuklu</td>\n",
       "      <td>2013</td>\n",
       "    </tr>\n",
       "    <tr>\n",
       "      <th>3107</th>\n",
       "      <td>3112</td>\n",
       "      <td>Istanbul</td>\n",
       "      <td>Resit</td>\n",
       "      <td>22/01/2013</td>\n",
       "      <td>Var</td>\n",
       "      <td>Tespit Edilemeyen</td>\n",
       "      <td>NaN</td>\n",
       "      <td>Kocasi</td>\n",
       "      <td>NaN</td>\n",
       "      <td>Atesli Silah</td>\n",
       "      <td>NaN</td>\n",
       "      <td>NaN</td>\n",
       "      <td>NaN</td>\n",
       "      <td>2013</td>\n",
       "    </tr>\n",
       "    <tr>\n",
       "      <th>3108</th>\n",
       "      <td>3113</td>\n",
       "      <td>Kars</td>\n",
       "      <td>Resit</td>\n",
       "      <td>23/01/2013</td>\n",
       "      <td>Yok</td>\n",
       "      <td>Kiskanclik</td>\n",
       "      <td>NaN</td>\n",
       "      <td>Eski Kocasi</td>\n",
       "      <td>NaN</td>\n",
       "      <td>Atesli Silah</td>\n",
       "      <td>NaN</td>\n",
       "      <td>NaN</td>\n",
       "      <td>NaN</td>\n",
       "      <td>2013</td>\n",
       "    </tr>\n",
       "    <tr>\n",
       "      <th>3109</th>\n",
       "      <td>3114</td>\n",
       "      <td>Samsun</td>\n",
       "      <td>Resit</td>\n",
       "      <td>26/02/2013</td>\n",
       "      <td>Yok</td>\n",
       "      <td>Tespit Edilemeyen</td>\n",
       "      <td>NaN</td>\n",
       "      <td>Eski Sevgilisi</td>\n",
       "      <td>NaN</td>\n",
       "      <td>Atesli Silah</td>\n",
       "      <td>NaN</td>\n",
       "      <td>NaN</td>\n",
       "      <td>Tutuklu</td>\n",
       "      <td>2013</td>\n",
       "    </tr>\n",
       "    <tr>\n",
       "      <th>3110</th>\n",
       "      <td>3115</td>\n",
       "      <td>Hatay</td>\n",
       "      <td>Resit</td>\n",
       "      <td>02/03/2013</td>\n",
       "      <td>Yok</td>\n",
       "      <td>Tespit Edilemeyen</td>\n",
       "      <td>NaN</td>\n",
       "      <td>Eski Kocasi</td>\n",
       "      <td>NaN</td>\n",
       "      <td>Atesli Silah</td>\n",
       "      <td>NaN</td>\n",
       "      <td>NaN</td>\n",
       "      <td>Tespit Edilemeyen</td>\n",
       "      <td>2013</td>\n",
       "    </tr>\n",
       "  </tbody>\n",
       "</table>\n",
       "<p>3111 rows × 14 columns</p>\n",
       "</div>"
      ],
      "text/plain": [
       "        id      city          age        date    protectionorder  \\\n",
       "0        1     Adana        Resit  01/02/2008  Tespit Edilemeyen   \n",
       "1        2     Adana          NaN  01/12/2008                Yok   \n",
       "2        3     Adana  Resit Degil  01/02/2008                Yok   \n",
       "3        4     Adana          NaN  01/04/2008                Yok   \n",
       "4        5    Ankara          NaN  01/12/2008  Tespit Edilemeyen   \n",
       "...    ...       ...          ...         ...                ...   \n",
       "3106  3111       Van        Resit  19/01/2013                Yok   \n",
       "3107  3112  Istanbul        Resit  22/01/2013                Var   \n",
       "3108  3113      Kars        Resit  23/01/2013                Yok   \n",
       "3109  3114    Samsun        Resit  26/02/2013                Yok   \n",
       "3110  3115     Hatay        Resit  02/03/2013                Yok   \n",
       "\n",
       "                                                   why1 why2  \\\n",
       "0     Erkegin istedigi bir seyin gerceklesmemesi seb...  NaN   \n",
       "1                                     Tespit Edilemeyen  NaN   \n",
       "2                                     Tespit Edilemeyen  NaN   \n",
       "3                                     Tespit Edilemeyen  NaN   \n",
       "4                                     Tespit Edilemeyen  NaN   \n",
       "...                                                 ...  ...   \n",
       "3106                                  Tespit Edilemeyen  NaN   \n",
       "3107                                  Tespit Edilemeyen  NaN   \n",
       "3108                                         Kiskanclik  NaN   \n",
       "3109                                  Tespit Edilemeyen  NaN   \n",
       "3110                                  Tespit Edilemeyen  NaN   \n",
       "\n",
       "                killer1 killer2        killingway1 killingway2 killingway3  \\\n",
       "0                Kocasi     NaN       Atesli Silah         NaN         NaN   \n",
       "1             Sevgilisi     NaN       Atesli Silah         NaN         NaN   \n",
       "2                Babasi     NaN               Darp         NaN         NaN   \n",
       "3        Eski Sevgilisi     NaN       Atesli Silah         NaN         NaN   \n",
       "4     Tespit Edilemeyen     NaN  Tespit Edilemeyen         NaN         NaN   \n",
       "...                 ...     ...                ...         ...         ...   \n",
       "3106             Kocasi     NaN            Bogulma         NaN         NaN   \n",
       "3107             Kocasi     NaN       Atesli Silah         NaN         NaN   \n",
       "3108        Eski Kocasi     NaN       Atesli Silah         NaN         NaN   \n",
       "3109     Eski Sevgilisi     NaN       Atesli Silah         NaN         NaN   \n",
       "3110        Eski Kocasi     NaN       Atesli Silah         NaN         NaN   \n",
       "\n",
       "         statusofkiller  year  \n",
       "0                   NaN  2008  \n",
       "1               Intihar  2008  \n",
       "2               Tutuklu  2008  \n",
       "3               Intihar  2008  \n",
       "4     Tespit Edilemeyen  2008  \n",
       "...                 ...   ...  \n",
       "3106            Tutuklu  2013  \n",
       "3107                NaN  2013  \n",
       "3108                NaN  2013  \n",
       "3109            Tutuklu  2013  \n",
       "3110  Tespit Edilemeyen  2013  \n",
       "\n",
       "[3111 rows x 14 columns]"
      ]
     },
     "execution_count": 7,
     "metadata": {},
     "output_type": "execute_result"
    }
   ],
   "source": [
    "data\n"
   ]
  },
  {
   "cell_type": "markdown",
   "execution_count": null,
   "metadata": {
    "papermill": {
     "duration": 0.012362,
     "end_time": "2020-08-21T23:57:06.893809",
     "exception": false,
     "start_time": "2020-08-21T23:57:06.881447",
     "status": "completed"
    },
    "tags": []
   },
   "source": [
    "<a id = '2'></a> \n",
    "## **Verilerin Tanımlanması**\n",
    "\n",
    "<font color = \"red\">AÇIKLAMA:</font>\n",
    "<font color = \"blue\">Veriler internetteki haber sitelerinden alınmış olup, yüzde yüz doğruluk payı içerememektedir. Bazı veriler ne yazık ki eksik olup daha sonrasında kamuoyuna bildirilmediği için ulaşılamamaktadır. Veriseti Yağmur Sezen Demir ve Büşra Durak tarafından internetteki verilerin Selenium aracılığı ile Excel'e çekilmesi ile oluşturulmuştur.</font>\n",
    "\n",
    "- **id: Tanımlayıcı**\n",
    "- **city: Hangi Şehirde Öldürüldüğü**\n",
    "- **age: Reşit / Reşit Değil**\n",
    "- **date: Hangi Tarihte Gerçekleştiği**\n",
    "- **protectionorder: Koruma Kararı**\n",
    "- **why1, why2: Öldürülme Sebebi**\n",
    "- **killer1, killer2: Kim Tarafından Öldürüldüğü**\n",
    "- **killingway1, killingway2, killingway3: Maktülün Öldürülme Şekli**\n",
    "- **statusofkiller: Katilin Durumu**\n",
    "- **year: Hangi Yılda Gerçekleştiği**\n"
   ]
  },
  {
   "cell_type": "markdown",
   "execution_count": null,
   "metadata": {
    "papermill": {
     "duration": 0.012335,
     "end_time": "2020-08-21T23:57:06.919101",
     "exception": false,
     "start_time": "2020-08-21T23:57:06.906766",
     "status": "completed"
    },
    "tags": []
   },
   "source": [
    "<a id = '3'> </a>\n",
    "## Sayısal Değerlerin Belirlenmesi"
   ]
  },
  {
   "cell_type": "code",
   "execution_count": 8,
   "metadata": {
    "execution": {
     "iopub.execute_input": "2020-08-21T23:57:06.955968Z",
     "iopub.status.busy": "2020-08-21T23:57:06.955027Z",
     "iopub.status.idle": "2020-08-21T23:57:06.959991Z",
     "shell.execute_reply": "2020-08-21T23:57:06.959226Z"
    },
    "papermill": {
     "duration": 0.02836,
     "end_time": "2020-08-21T23:57:06.960128",
     "exception": false,
     "start_time": "2020-08-21T23:57:06.931768",
     "status": "completed"
    },
    "tags": []
   },
   "outputs": [
    {
     "data": {
      "text/plain": [
       "2008     65\n",
       "2009    123\n",
       "2010    194\n",
       "2011    121\n",
       "2012    139\n",
       "2013    229\n",
       "2014    290\n",
       "2015    295\n",
       "2016    282\n",
       "2017    348\n",
       "2018    403\n",
       "2019    427\n",
       "2020    194\n",
       "Name: year, dtype: int64"
      ]
     },
     "execution_count": 8,
     "metadata": {},
     "output_type": "execute_result"
    }
   ],
   "source": [
    "yillaragoreolum = data.year.value_counts().head(13).sort_index()\n",
    "yillaragoreolum"
   ]
  },
  {
   "cell_type": "markdown",
   "execution_count": null,
   "metadata": {
    "papermill": {
     "duration": 0.012573,
     "end_time": "2020-08-21T23:57:06.985662",
     "exception": false,
     "start_time": "2020-08-21T23:57:06.973089",
     "status": "completed"
    },
    "tags": []
   },
   "source": [
    "<font color = \"#000045\"><b> Yukarıdaki verilerde hangi yılda kaç kadın öldürüldüğü görülmektedir. 2020'nin ilk 8 ayında toplamda 194 kadın öldürülmüştür. </b>\n"
   ]
  },
  {
   "cell_type": "code",
   "execution_count": 9,
   "metadata": {
    "execution": {
     "iopub.execute_input": "2020-08-21T23:57:07.022056Z",
     "iopub.status.busy": "2020-08-21T23:57:07.020851Z",
     "iopub.status.idle": "2020-08-21T23:57:07.025383Z",
     "shell.execute_reply": "2020-08-21T23:57:07.025926Z"
    },
    "papermill": {
     "duration": 0.027447,
     "end_time": "2020-08-21T23:57:07.026103",
     "exception": false,
     "start_time": "2020-08-21T23:57:06.998656",
     "status": "completed"
    },
    "tags": []
   },
   "outputs": [
    {
     "data": {
      "text/plain": [
       "Kocasi               1032\n",
       "Tespit Edilemeyen     499\n",
       "Sevgilisi             305\n",
       "Tanidigi Birisi       270\n",
       "Eski Kocasi           179\n",
       "Oglu                  113\n",
       "Babasi                107\n",
       "Tanimadigi Birisi      89\n",
       "Eski Sevgilisi         82\n",
       "Akrabasi               78\n",
       "Damadi                 58\n",
       "Abisi                  41\n",
       "Erkek Kardesi          34\n",
       "Ailesi                 18\n",
       "Enistesi               15\n",
       "Name: killer1, dtype: int64"
      ]
     },
     "execution_count": 9,
     "metadata": {},
     "output_type": "execute_result"
    }
   ],
   "source": [
    "kimtarafindan = data.killer1.value_counts()\n",
    "kimtarafindan.head(15)"
   ]
  },
  {
   "cell_type": "markdown",
   "execution_count": null,
   "metadata": {
    "papermill": {
     "duration": 0.013118,
     "end_time": "2020-08-21T23:57:07.052834",
     "exception": false,
     "start_time": "2020-08-21T23:57:07.039716",
     "status": "completed"
    },
    "tags": []
   },
   "source": [
    " <font color = \"#000045\"><b> Yukarıdaki verilerde 2008-2020 yılları arasında maktüllerin kim tarafından öldürüldüğü görülmektedir. Belirlenemeyen veriler haricinde, toplamda 1032 kadın kocası tarafından öldürülmüştür. </b>"
   ]
  },
  {
   "cell_type": "code",
   "execution_count": 10,
   "metadata": {
    "execution": {
     "iopub.execute_input": "2020-08-21T23:57:07.089370Z",
     "iopub.status.busy": "2020-08-21T23:57:07.088317Z",
     "iopub.status.idle": "2020-08-21T23:57:07.092851Z",
     "shell.execute_reply": "2020-08-21T23:57:07.092138Z"
    },
    "papermill": {
     "duration": 0.027165,
     "end_time": "2020-08-21T23:57:07.092983",
     "exception": false,
     "start_time": "2020-08-21T23:57:07.065818",
     "status": "completed"
    },
    "tags": []
   },
   "outputs": [
    {
     "data": {
      "text/plain": [
       "Tutuklu               982\n",
       "Tespit Edilemeyen     293\n",
       "Intihar               235\n",
       "Sorusturma Suruyor    121\n",
       "Araniyor               88\n",
       "Kacak                  37\n",
       "Yargilaniyor            6\n",
       "Name: statusofkiller, dtype: int64"
      ]
     },
     "execution_count": 10,
     "metadata": {},
     "output_type": "execute_result"
    }
   ],
   "source": [
    "data.statusofkiller.value_counts().head(7)"
   ]
  },
  {
   "cell_type": "markdown",
   "execution_count": null,
   "metadata": {
    "papermill": {
     "duration": 0.013158,
     "end_time": "2020-08-21T23:57:07.119889",
     "exception": false,
     "start_time": "2020-08-21T23:57:07.106731",
     "status": "completed"
    },
    "tags": []
   },
   "source": [
    "<font color = \"#000045\"><b> Yukarıdaki verilerde katillerin durumu görülmektedir. </b>"
   ]
  },
  {
   "cell_type": "markdown",
   "execution_count": null,
   "metadata": {
    "papermill": {
     "duration": 0.013264,
     "end_time": "2020-08-21T23:57:07.146450",
     "exception": false,
     "start_time": "2020-08-21T23:57:07.133186",
     "status": "completed"
    },
    "tags": []
   },
   "source": [
    " <a id='4'></a>\n",
    "## Sorgular ve Verilerin Görselleştirilmesi "
   ]
  },
  {
   "cell_type": "code",
   "execution_count": 11,
   "metadata": {
    "execution": {
     "iopub.execute_input": "2020-08-21T23:57:07.208492Z",
     "iopub.status.busy": "2020-08-21T23:57:07.207443Z",
     "iopub.status.idle": "2020-08-21T23:57:07.213002Z",
     "shell.execute_reply": "2020-08-21T23:57:07.212389Z"
    },
    "papermill": {
     "duration": 0.05327,
     "end_time": "2020-08-21T23:57:07.213147",
     "exception": false,
     "start_time": "2020-08-21T23:57:07.159877",
     "status": "completed"
    },
    "tags": []
   },
   "outputs": [
    {
     "data": {
      "text/html": [
       "<div>\n",
       "<style scoped>\n",
       "    .dataframe tbody tr th:only-of-type {\n",
       "        vertical-align: middle;\n",
       "    }\n",
       "\n",
       "    .dataframe tbody tr th {\n",
       "        vertical-align: top;\n",
       "    }\n",
       "\n",
       "    .dataframe thead th {\n",
       "        text-align: right;\n",
       "    }\n",
       "</style>\n",
       "<table border=\"1\" class=\"dataframe\">\n",
       "  <thead>\n",
       "    <tr style=\"text-align: right;\">\n",
       "      <th></th>\n",
       "      <th>id</th>\n",
       "      <th>city</th>\n",
       "      <th>age</th>\n",
       "      <th>date</th>\n",
       "      <th>protectionorder</th>\n",
       "      <th>why1</th>\n",
       "      <th>why2</th>\n",
       "      <th>killer1</th>\n",
       "      <th>killer2</th>\n",
       "      <th>killingway1</th>\n",
       "      <th>killingway2</th>\n",
       "      <th>killingway3</th>\n",
       "      <th>statusofkiller</th>\n",
       "      <th>year</th>\n",
       "    </tr>\n",
       "  </thead>\n",
       "  <tbody>\n",
       "    <tr>\n",
       "      <th>0</th>\n",
       "      <td>1</td>\n",
       "      <td>Adana</td>\n",
       "      <td>Resit</td>\n",
       "      <td>01/02/2008</td>\n",
       "      <td>Tespit Edilemeyen</td>\n",
       "      <td>Erkegin istedigi bir seyin gerceklesmemesi seb...</td>\n",
       "      <td>NaN</td>\n",
       "      <td>Kocasi</td>\n",
       "      <td>NaN</td>\n",
       "      <td>Atesli Silah</td>\n",
       "      <td>NaN</td>\n",
       "      <td>NaN</td>\n",
       "      <td>NaN</td>\n",
       "      <td>2008</td>\n",
       "    </tr>\n",
       "    <tr>\n",
       "      <th>10</th>\n",
       "      <td>11</td>\n",
       "      <td>Bingol</td>\n",
       "      <td>Resit</td>\n",
       "      <td>04/03/2008</td>\n",
       "      <td>Yok</td>\n",
       "      <td>Tartisma</td>\n",
       "      <td>NaN</td>\n",
       "      <td>Kocasi</td>\n",
       "      <td>NaN</td>\n",
       "      <td>Atesli Silah</td>\n",
       "      <td>NaN</td>\n",
       "      <td>NaN</td>\n",
       "      <td>Tutuklu</td>\n",
       "      <td>2008</td>\n",
       "    </tr>\n",
       "    <tr>\n",
       "      <th>18</th>\n",
       "      <td>19</td>\n",
       "      <td>Gaziantep</td>\n",
       "      <td>Resit</td>\n",
       "      <td>07/05/2008</td>\n",
       "      <td>Yok</td>\n",
       "      <td>Tespit Edilemeyen</td>\n",
       "      <td>NaN</td>\n",
       "      <td>Kocasi</td>\n",
       "      <td>NaN</td>\n",
       "      <td>Atesli Silah</td>\n",
       "      <td>NaN</td>\n",
       "      <td>NaN</td>\n",
       "      <td>Tespit Edilemeyen</td>\n",
       "      <td>2008</td>\n",
       "    </tr>\n",
       "    <tr>\n",
       "      <th>27</th>\n",
       "      <td>28</td>\n",
       "      <td>Istanbul</td>\n",
       "      <td>Resit</td>\n",
       "      <td>10/07/2008</td>\n",
       "      <td>Yok</td>\n",
       "      <td>Tartisma</td>\n",
       "      <td>NaN</td>\n",
       "      <td>Kocasi</td>\n",
       "      <td>NaN</td>\n",
       "      <td>Atesli Silah</td>\n",
       "      <td>NaN</td>\n",
       "      <td>NaN</td>\n",
       "      <td>Intihar</td>\n",
       "      <td>2008</td>\n",
       "    </tr>\n",
       "    <tr>\n",
       "      <th>31</th>\n",
       "      <td>32</td>\n",
       "      <td>Sinop</td>\n",
       "      <td>NaN</td>\n",
       "      <td>17/05/2008</td>\n",
       "      <td>Yok</td>\n",
       "      <td>Tespit Edilemeyen</td>\n",
       "      <td>NaN</td>\n",
       "      <td>Kocasi</td>\n",
       "      <td>NaN</td>\n",
       "      <td>Atesli Silah</td>\n",
       "      <td>NaN</td>\n",
       "      <td>NaN</td>\n",
       "      <td>Tutuklu</td>\n",
       "      <td>2008</td>\n",
       "    </tr>\n",
       "    <tr>\n",
       "      <th>...</th>\n",
       "      <td>...</td>\n",
       "      <td>...</td>\n",
       "      <td>...</td>\n",
       "      <td>...</td>\n",
       "      <td>...</td>\n",
       "      <td>...</td>\n",
       "      <td>...</td>\n",
       "      <td>...</td>\n",
       "      <td>...</td>\n",
       "      <td>...</td>\n",
       "      <td>...</td>\n",
       "      <td>...</td>\n",
       "      <td>...</td>\n",
       "      <td>...</td>\n",
       "    </tr>\n",
       "    <tr>\n",
       "      <th>3092</th>\n",
       "      <td>3097</td>\n",
       "      <td>Istanbul</td>\n",
       "      <td>Resit</td>\n",
       "      <td>06/12/2012</td>\n",
       "      <td>Yok</td>\n",
       "      <td>Tartisma</td>\n",
       "      <td>NaN</td>\n",
       "      <td>Kocasi</td>\n",
       "      <td>NaN</td>\n",
       "      <td>Atesli Silah</td>\n",
       "      <td>NaN</td>\n",
       "      <td>NaN</td>\n",
       "      <td>NaN</td>\n",
       "      <td>2012</td>\n",
       "    </tr>\n",
       "    <tr>\n",
       "      <th>3095</th>\n",
       "      <td>3100</td>\n",
       "      <td>Tespit Edilemeyen</td>\n",
       "      <td>Resit</td>\n",
       "      <td>31/12/2012</td>\n",
       "      <td>Yok</td>\n",
       "      <td>Aldatilma Suphesi</td>\n",
       "      <td>NaN</td>\n",
       "      <td>Kocasi</td>\n",
       "      <td>NaN</td>\n",
       "      <td>Atesli Silah</td>\n",
       "      <td>NaN</td>\n",
       "      <td>NaN</td>\n",
       "      <td>NaN</td>\n",
       "      <td>2012</td>\n",
       "    </tr>\n",
       "    <tr>\n",
       "      <th>3098</th>\n",
       "      <td>3103</td>\n",
       "      <td>Kayseri</td>\n",
       "      <td>Resit</td>\n",
       "      <td>18/12/2012</td>\n",
       "      <td>Yok</td>\n",
       "      <td>Tartisma</td>\n",
       "      <td>NaN</td>\n",
       "      <td>Kocasi</td>\n",
       "      <td>NaN</td>\n",
       "      <td>Atesli Silah</td>\n",
       "      <td>NaN</td>\n",
       "      <td>NaN</td>\n",
       "      <td>NaN</td>\n",
       "      <td>2012</td>\n",
       "    </tr>\n",
       "    <tr>\n",
       "      <th>3099</th>\n",
       "      <td>3104</td>\n",
       "      <td>Diyarbakir</td>\n",
       "      <td>Resit</td>\n",
       "      <td>31/12/2012</td>\n",
       "      <td>Yok</td>\n",
       "      <td>Tespit Edilemeyen</td>\n",
       "      <td>NaN</td>\n",
       "      <td>Kocasi</td>\n",
       "      <td>NaN</td>\n",
       "      <td>Atesli Silah</td>\n",
       "      <td>NaN</td>\n",
       "      <td>NaN</td>\n",
       "      <td>NaN</td>\n",
       "      <td>2012</td>\n",
       "    </tr>\n",
       "    <tr>\n",
       "      <th>3107</th>\n",
       "      <td>3112</td>\n",
       "      <td>Istanbul</td>\n",
       "      <td>Resit</td>\n",
       "      <td>22/01/2013</td>\n",
       "      <td>Var</td>\n",
       "      <td>Tespit Edilemeyen</td>\n",
       "      <td>NaN</td>\n",
       "      <td>Kocasi</td>\n",
       "      <td>NaN</td>\n",
       "      <td>Atesli Silah</td>\n",
       "      <td>NaN</td>\n",
       "      <td>NaN</td>\n",
       "      <td>NaN</td>\n",
       "      <td>2013</td>\n",
       "    </tr>\n",
       "  </tbody>\n",
       "</table>\n",
       "<p>511 rows × 14 columns</p>\n",
       "</div>"
      ],
      "text/plain": [
       "        id               city    age        date    protectionorder  \\\n",
       "0        1              Adana  Resit  01/02/2008  Tespit Edilemeyen   \n",
       "10      11             Bingol  Resit  04/03/2008                Yok   \n",
       "18      19          Gaziantep  Resit  07/05/2008                Yok   \n",
       "27      28           Istanbul  Resit  10/07/2008                Yok   \n",
       "31      32              Sinop    NaN  17/05/2008                Yok   \n",
       "...    ...                ...    ...         ...                ...   \n",
       "3092  3097           Istanbul  Resit  06/12/2012                Yok   \n",
       "3095  3100  Tespit Edilemeyen  Resit  31/12/2012                Yok   \n",
       "3098  3103            Kayseri  Resit  18/12/2012                Yok   \n",
       "3099  3104         Diyarbakir  Resit  31/12/2012                Yok   \n",
       "3107  3112           Istanbul  Resit  22/01/2013                Var   \n",
       "\n",
       "                                                   why1 why2 killer1 killer2  \\\n",
       "0     Erkegin istedigi bir seyin gerceklesmemesi seb...  NaN  Kocasi     NaN   \n",
       "10                                             Tartisma  NaN  Kocasi     NaN   \n",
       "18                                    Tespit Edilemeyen  NaN  Kocasi     NaN   \n",
       "27                                             Tartisma  NaN  Kocasi     NaN   \n",
       "31                                    Tespit Edilemeyen  NaN  Kocasi     NaN   \n",
       "...                                                 ...  ...     ...     ...   \n",
       "3092                                           Tartisma  NaN  Kocasi     NaN   \n",
       "3095                                  Aldatilma Suphesi  NaN  Kocasi     NaN   \n",
       "3098                                           Tartisma  NaN  Kocasi     NaN   \n",
       "3099                                  Tespit Edilemeyen  NaN  Kocasi     NaN   \n",
       "3107                                  Tespit Edilemeyen  NaN  Kocasi     NaN   \n",
       "\n",
       "       killingway1 killingway2 killingway3     statusofkiller  year  \n",
       "0     Atesli Silah         NaN         NaN                NaN  2008  \n",
       "10    Atesli Silah         NaN         NaN            Tutuklu  2008  \n",
       "18    Atesli Silah         NaN         NaN  Tespit Edilemeyen  2008  \n",
       "27    Atesli Silah         NaN         NaN            Intihar  2008  \n",
       "31    Atesli Silah         NaN         NaN            Tutuklu  2008  \n",
       "...            ...         ...         ...                ...   ...  \n",
       "3092  Atesli Silah         NaN         NaN                NaN  2012  \n",
       "3095  Atesli Silah         NaN         NaN                NaN  2012  \n",
       "3098  Atesli Silah         NaN         NaN                NaN  2012  \n",
       "3099  Atesli Silah         NaN         NaN                NaN  2012  \n",
       "3107  Atesli Silah         NaN         NaN                NaN  2013  \n",
       "\n",
       "[511 rows x 14 columns]"
      ]
     },
     "execution_count": 11,
     "metadata": {},
     "output_type": "execute_result"
    }
   ],
   "source": [
    "data[\n",
    "    ((data.killer1 == 'Kocasi') | (data.killer2 == 'Kocasi')) &\n",
    "    ((data.killingway1 == 'Atesli Silah') | (data.killingway2 == 'Atesli Silah')|(data.killingway3 == 'Atesli Silah'))\n",
    "]"
   ]
  },
  {
   "cell_type": "markdown",
   "execution_count": null,
   "metadata": {
    "papermill": {
     "duration": 0.013758,
     "end_time": "2020-08-21T23:57:07.241792",
     "exception": false,
     "start_time": "2020-08-21T23:57:07.228034",
     "status": "completed"
    },
    "tags": []
   },
   "source": [
    "<font color = \"#000045\"> <b> Yukarıda yazılan sorguda kocası tarafından 2008-2020 tarihleri arasında ateşli silahla öldürülenler listelenmiştir. </b>"
   ]
  },
  {
   "cell_type": "markdown",
   "execution_count": null,
   "metadata": {
    "papermill": {
     "duration": 0.013805,
     "end_time": "2020-08-21T23:57:07.269690",
     "exception": false,
     "start_time": "2020-08-21T23:57:07.255885",
     "status": "completed"
    },
    "tags": []
   },
   "source": [
    "<a id = \"5\"></a>\n",
    "<font color = \"#800000\">\n",
    "### **Ocak 2008 ve Ağustos 2020 Tarihleri Arasında Ölen Kadınlar Histogram Grafiği**\n"
   ]
  },
  {
   "cell_type": "code",
   "execution_count": 12,
   "metadata": {
    "execution": {
     "iopub.execute_input": "2020-08-21T23:57:07.306208Z",
     "iopub.status.busy": "2020-08-21T23:57:07.305355Z",
     "iopub.status.idle": "2020-08-21T23:57:07.656879Z",
     "shell.execute_reply": "2020-08-21T23:57:07.656211Z"
    },
    "papermill": {
     "duration": 0.373241,
     "end_time": "2020-08-21T23:57:07.657019",
     "exception": false,
     "start_time": "2020-08-21T23:57:07.283778",
     "status": "completed"
    },
    "tags": []
   },
   "outputs": [
    {
     "data": {
      "image/png": "[encoded data removed]",
      "text/plain": [
       "<Figure size 720x432 with 1 Axes>"
      ]
     },
     "metadata": {
      "needs_background": "light"
     },
     "output_type": "display_data"
    }
   ],
   "source": [
    "yillaragoreolenkadinlar =data.year.plot(kind = 'hist' , bins = 30 , figsize = (10,6) , range = (2008 , 2020) , label = 'Yil' )\n",
    "yillaragoreolenkadinlar.set_title(\"Ocak 2008 ve Ağustos 2020 Tarihleri Arasında Ölen Kadınlar\" , fontsize = 12)\n",
    "yillaragoreolenkadinlar.set_xlabel(\"Yıl\", fontsize = 12)\n",
    "yillaragoreolenkadinlar.set_ylabel(\"Ölen Kadınlar\", fontsize = 12)\n",
    "plt.show()"
   ]
  },
  {
   "cell_type": "markdown",
   "execution_count": null,
   "metadata": {
    "papermill": {
     "duration": 0.014297,
     "end_time": "2020-08-21T23:57:07.686746",
     "exception": false,
     "start_time": "2020-08-21T23:57:07.672449",
     "status": "completed"
    },
    "tags": []
   },
   "source": [
    "<a id = \"6\"></a>\n",
    "<font color = \"#800000\">\n",
    "### **Öldürülme Şekli Pie Chart Grafiği**"
   ]
  },
  {
   "cell_type": "code",
   "execution_count": 13,
   "metadata": {
    "execution": {
     "iopub.execute_input": "2020-08-21T23:57:07.727114Z",
     "iopub.status.busy": "2020-08-21T23:57:07.726265Z",
     "iopub.status.idle": "2020-08-21T23:57:07.856488Z",
     "shell.execute_reply": "2020-08-21T23:57:07.855876Z"
    },
    "papermill": {
     "duration": 0.15528,
     "end_time": "2020-08-21T23:57:07.856630",
     "exception": false,
     "start_time": "2020-08-21T23:57:07.701350",
     "status": "completed"
    },
    "tags": []
   },
   "outputs": [
    {
     "data": {
      "image/png": "[encoded data removed]",
      "text/plain": [
       "<Figure size 648x576 with 1 Axes>"
      ]
     },
     "metadata": {},
     "output_type": "display_data"
    }
   ],
   "source": [
    "degerler = data.killingway1.value_counts().head(7)\n",
    "nasiloldurulduler = degerler.plot(kind='pie'  , figsize = (9, 8) , startangle = 60 , shadow = False , autopct = \"%1.1f%%\")\n",
    "nasiloldurulduler.set_title(\"Öldürülme Şekli\" , fontsize = 15)\n",
    "nasiloldurulduler.set_ylabel(\"\" , fontsize = 15)\n",
    "plt.show()"
   ]
  },
  {
   "cell_type": "markdown",
   "execution_count": null,
   "metadata": {
    "papermill": {
     "duration": 0.014697,
     "end_time": "2020-08-21T23:57:07.886146",
     "exception": false,
     "start_time": "2020-08-21T23:57:07.871449",
     "status": "completed"
    },
    "tags": []
   },
   "source": [
    "<font color = '#000045'> <b> Verilerde ilk 7 öldürme aracına bakıldığında neredeyse yarısının ateşli silah olduğu görülmektedir. </b> </font>"
   ]
  },
  {
   "cell_type": "markdown",
   "execution_count": null,
   "metadata": {
    "papermill": {
     "duration": 0.014205,
     "end_time": "2020-08-21T23:57:07.915062",
     "exception": false,
     "start_time": "2020-08-21T23:57:07.900857",
     "status": "completed"
    },
    "tags": []
   },
   "source": [
    "<a id = \"7\"></a>\n",
    "<font color = \"#800000\">\n",
    "### **Koruma Kararı Pie Chart Grafiği**\n"
   ]
  },
  {
   "cell_type": "code",
   "execution_count": 14,
   "metadata": {
    "execution": {
     "iopub.execute_input": "2020-08-21T23:57:07.964771Z",
     "iopub.status.busy": "2020-08-21T23:57:07.957426Z",
     "iopub.status.idle": "2020-08-21T23:57:08.040858Z",
     "shell.execute_reply": "2020-08-21T23:57:08.040097Z"
    },
    "papermill": {
     "duration": 0.111106,
     "end_time": "2020-08-21T23:57:08.040987",
     "exception": false,
     "start_time": "2020-08-21T23:57:07.929881",
     "status": "completed"
    },
    "tags": []
   },
   "outputs": [
    {
     "data": {
      "image/png": "[encoded data removed]",
      "text/plain": [
       "<Figure size 648x576 with 1 Axes>"
      ]
     },
     "metadata": {},
     "output_type": "display_data"
    }
   ],
   "source": [
    "degerler2 = data.protectionorder.value_counts().head(3)\n",
    "korumakarari = degerler2.plot(kind='pie'  , figsize = (9, 8) , startangle = 60 , shadow = False , autopct = \"%1.1f%%\")\n",
    "korumakarari.set_title(\"Koruma Kararı Durumu\" , fontsize = 15)\n",
    "korumakarari.set_ylabel(\"\" , fontsize = 15)\n",
    "plt.show()"
   ]
  },
  {
   "cell_type": "markdown",
   "execution_count": null,
   "metadata": {
    "papermill": {
     "duration": 0.015094,
     "end_time": "2020-08-21T23:57:08.071481",
     "exception": false,
     "start_time": "2020-08-21T23:57:08.056387",
     "status": "completed"
    },
    "tags": []
   },
   "source": [
    "<a id = \"8\"></a>\n",
    "<font color = \"#800000\">\n",
    "### **Katillerin Durumu Pie Chart Grafiği**\n"
   ]
  },
  {
   "cell_type": "code",
   "execution_count": 15,
   "metadata": {
    "execution": {
     "iopub.execute_input": "2020-08-21T23:57:08.121132Z",
     "iopub.status.busy": "2020-08-21T23:57:08.116087Z",
     "iopub.status.idle": "2020-08-21T23:57:08.214488Z",
     "shell.execute_reply": "2020-08-21T23:57:08.215039Z"
    },
    "papermill": {
     "duration": 0.128134,
     "end_time": "2020-08-21T23:57:08.215215",
     "exception": false,
     "start_time": "2020-08-21T23:57:08.087081",
     "status": "completed"
    },
    "tags": []
   },
   "outputs": [
    {
     "data": {
      "image/png": "[encoded data removed]",
      "text/plain": [
       "<Figure size 648x576 with 1 Axes>"
      ]
     },
     "metadata": {},
     "output_type": "display_data"
    }
   ],
   "source": [
    "degerler3 = data.statusofkiller.value_counts().head(6)\n",
    "katildurumu = degerler3.plot(kind='pie'  , figsize = (9, 8) , startangle = 60 , shadow = False , autopct = \"%1.1f%%\")\n",
    "katildurumu.set_title(\"Katillerin Durumu\" , fontsize = 15)\n",
    "katildurumu.set_ylabel(\"\" , fontsize = 15)\n",
    "plt.show()"
   ]
  },
  {
   "cell_type": "markdown",
   "execution_count": null,
   "metadata": {
    "papermill": {
     "duration": 0.015211,
     "end_time": "2020-08-21T23:57:08.246156",
     "exception": false,
     "start_time": "2020-08-21T23:57:08.230945",
     "status": "completed"
    },
    "tags": []
   },
   "source": [
    "<a id = \"9\"></a>\n",
    "<font color = \"#800000\">\n",
    "### **Kim Tarafından Öldürüldüğü Bar Plot Grafiği**"
   ]
  },
  {
   "cell_type": "markdown",
   "execution_count": null,
   "metadata": {
    "papermill": {
     "duration": 0.01517,
     "end_time": "2020-08-21T23:57:08.276981",
     "exception": false,
     "start_time": "2020-08-21T23:57:08.261811",
     "status": "completed"
    },
    "tags": []
   },
   "source": [
    "<a id = \"10\"></a>\n",
    "### **1. Dereceden Kan Bağı Olanlar Tarafından**"
   ]
  },
  {
   "cell_type": "code",
   "execution_count": 16,
   "metadata": {
    "execution": {
     "iopub.execute_input": "2020-08-21T23:57:08.454733Z",
     "iopub.status.busy": "2020-08-21T23:57:08.415658Z",
     "iopub.status.idle": "2020-08-21T23:57:08.864981Z",
     "shell.execute_reply": "2020-08-21T23:57:08.864145Z"
    },
    "papermill": {
     "duration": 0.572469,
     "end_time": "2020-08-21T23:57:08.865116",
     "exception": false,
     "start_time": "2020-08-21T23:57:08.292647",
     "status": "completed"
    },
    "tags": []
   },
   "outputs": [
    {
     "data": {
      "image/png": "[encoded data removed]",
      "text/plain": [
       "<Figure size 1296x648 with 1 Axes>"
      ]
     },
     "metadata": {
      "needs_background": "light"
     },
     "output_type": "display_data"
    }
   ],
   "source": [
    "# Kızı ve Oğlu Tarafından\n",
    "ailesi1 = data[(data['killer1'] == 'Oglu') | (data['killer1'] == 'Kizi')]\n",
    "ailesi1filtre = ailesi1[['year','killer1']]\n",
    "ailesi1filtre.year.value_counts().head(13).sort_index()\n",
    "listeailesi1 = list(ailesi1filtre.year.value_counts().head(13).sort_index())\n",
    "listeailesi1.insert(0,0) #Bazı yıllarda veri yok bu yüzden o yıllara 0 ekledik\n",
    "#Abisi , Kardesi , Erkek Kardesi Tarafından\n",
    "ailesi2 = data[(data['killer1'] == 'Abisi') | (data['killer1'] == 'Kardesi') | (data['killer1'] == 'Erkek Kardesi') ]\n",
    "ailesi2filtre = ailesi2[['year','killer1']]\n",
    "ailesi2filtre.year.value_counts().head(13).sort_index()\n",
    "listeailesi2 = list(ailesi2filtre.year.value_counts().head(13).sort_index())\n",
    "listeailesi2.append(0)\n",
    "# Annesi Babası Tarafından\n",
    "ailesi3 = data[(data['killer1'] == 'Babasi') | (data['killer1'] == 'Annesi') ]\n",
    "ailesi3filtre = ailesi3[['year','killer1']]\n",
    "ailesi3filtre.year.value_counts().head(13).sort_index()\n",
    "listeailesi3 = list(ailesi3filtre.year.value_counts().head(13).sort_index())\n",
    "listeailesi3.insert(4,0)\n",
    "#Torunu Tarafından\n",
    "ailesi4 = data[(data['killer1'] == 'Torunu' ) | (data['killer1'] == 'Yegeni') | (data['killer1'] == 'Amcasi') | (data['killer1'] == 'Dayisi')|(data['killer1'] == 'Kuzeni') | (data['killer1'] == 'Akrabasi')]\n",
    "ailesi4filtre = ailesi4[['year','killer1']]\n",
    "ailesi4filtre.year.value_counts().head(13).sort_index()\n",
    "listeailesi4 = list(ailesi4filtre.year.value_counts().head(13).sort_index())\n",
    "#Verimizi Listeye Alalım\n",
    "datamiz1 = []\n",
    "datamiz1.append(listeailesi1)\n",
    "datamiz1.append(listeailesi2)\n",
    "datamiz1.append(listeailesi3)\n",
    "datamiz1.append(listeailesi4) \n",
    "# X axisindeki değerleri atayalım\n",
    "barWidth = 0.22\n",
    "r1 = np.arange(len(datamiz1[0]))\n",
    "r2 = [x + barWidth for x in r1]\n",
    "r3 = [x + barWidth for x in r2]\n",
    "r4 = [x + barWidth for x in r3]\n",
    "#plotu oluşturalım ve görüntüleyelim\n",
    "plt.figure(figsize=(18,9))\n",
    "plt.grid(zorder = 0)\n",
    "plt.bar(r1, datamiz1[0], color='#1089bc', width=barWidth, edgecolor='white', label='Çocukları Tarafından')\n",
    "plt.bar(r2, datamiz1[1] , color='#ff3300', width=barWidth, edgecolor='white', label='Kardeşi Tarafından')\n",
    "plt.bar(r3, datamiz1[2], color='#ffa500', width=barWidth, edgecolor='white', label='Annesi veya Babası Tarafından')\n",
    "plt.bar(r4, datamiz1[3], color='purple', width=barWidth, edgecolor='white', label='Akrabaları Tarafından')\n",
    "plt.xlabel('1. Dereceden Kan Bağı Olanlar Tarafından Öldürülen Kadınlar', fontweight='bold')\n",
    "plt.xticks([r + barWidth for r in range(len(datamiz1[0]))], ['2008', '2009', '2010', '2011', '2012','2013', '2014', '2015', '2016', '2017','2018', '2019', '2020'])\n",
    "plt.legend()\n",
    "plt.show()\n"
   ]
  },
  {
   "cell_type": "markdown",
   "execution_count": null,
   "metadata": {
    "papermill": {
     "duration": 0.015664,
     "end_time": "2020-08-21T23:57:08.897143",
     "exception": false,
     "start_time": "2020-08-21T23:57:08.881479",
     "status": "completed"
    },
    "tags": []
   },
   "source": [
    "<a id = \"11\"></a>\n",
    "### **Duygusal İlişki Kurulan İnsanlar Tarafından**\n"
   ]
  },
  {
   "cell_type": "code",
   "execution_count": 17,
   "metadata": {
    "execution": {
     "iopub.execute_input": "2020-08-21T23:57:08.955889Z",
     "iopub.status.busy": "2020-08-21T23:57:08.943071Z",
     "iopub.status.idle": "2020-08-21T23:57:09.365348Z",
     "shell.execute_reply": "2020-08-21T23:57:09.364573Z"
    },
    "papermill": {
     "duration": 0.452324,
     "end_time": "2020-08-21T23:57:09.365478",
     "exception": false,
     "start_time": "2020-08-21T23:57:08.913154",
     "status": "completed"
    },
    "tags": []
   },
   "outputs": [
    {
     "data": {
      "image/png": "[encoded data removed]",
      "text/plain": [
       "<Figure size 1296x648 with 1 Axes>"
      ]
     },
     "metadata": {
      "needs_background": "light"
     },
     "output_type": "display_data"
    }
   ],
   "source": [
    "# Kocası Tarafından Öldürülenler\n",
    "kocasitarafindan = data[data['killer1'] == 'Kocasi' ]\n",
    "kocasitarafindanfiltre = kocasitarafindan[['year','killer1']]\n",
    "kocasitarafindanfiltre.year.value_counts().head(13).sort_index()\n",
    "listekocasi = list(kocasitarafindanfiltre.year.value_counts().head(13).sort_index())\n",
    "#Eski Kocası Tarafından Öldürülenler\n",
    "eskikocasitarafindan = data[data['killer1'] == 'Eski Kocasi' ]\n",
    "eskikocasitarafindanfiltre = eskikocasitarafindan[['year','killer1']]\n",
    "eskikocasitarafindanfiltre.year.value_counts().head(13).sort_index()\n",
    "listeeskikocasi = list(eskikocasitarafindanfiltre.year.value_counts().head(13).sort_index())\n",
    "#Eski Sevgilisi Tarafından Öldürülenler\n",
    "eskisevgilisitarafindan = data[(data['killer1'] == 'Eski Sevgilisi') ]\n",
    "eskisevgilisitarafindanfiltre = eskisevgilisitarafindan[['year','killer1']]\n",
    "eskisevgilisitarafindanfiltre.year.value_counts().head(13).sort_index()        \n",
    "listeeskisevgilisi = list(eskisevgilisitarafindanfiltre.year.value_counts().head(13).sort_index())\n",
    "#Sevgilisi Tarafından Öldürülenler\n",
    "sevgilisitarafindan = data[data['killer1'] == 'Sevgilisi' ]\n",
    "sevgilisitarafindanfiltre = sevgilisitarafindan[['year','killer1']]\n",
    "sevgilisitarafindanfiltre.year.value_counts().head(13).sort_index()\n",
    "listesevgilisi = list(sevgilisitarafindanfiltre.year.value_counts().head(13).sort_index())\n",
    "#Verimizi Listeye Alalım\n",
    "datamiz = []\n",
    "datamiz.append(listeeskisevgilisi)\n",
    "datamiz.append(listeeskikocasi)\n",
    "datamiz.append(listesevgilisi)\n",
    "datamiz.append(listekocasi)\n",
    "# X axisindeki değerleri atayalım\n",
    "barWidth = 0.22\n",
    "r1 = np.arange(len(datamiz[0]))\n",
    "r2 = [x + barWidth for x in r1]\n",
    "r3 = [x + barWidth for x in r2]\n",
    "r4 = [x + barWidth for x in r3]\n",
    "#plotu oluşturalım ve görüntüleyelim\n",
    "plt.figure(figsize=(18,9))\n",
    "plt.grid(zorder = 0)\n",
    "plt.bar(r1, datamiz[0], color='#1089bc', width=barWidth, edgecolor='white', label='Eski Sevgilisi Tarafından')\n",
    "plt.bar(r2, datamiz[1] , color='#ff3300', width=barWidth, edgecolor='white', label='Eski Kocası Tarafından')\n",
    "plt.bar(r3, datamiz[2], color='#ffa500', width=barWidth, edgecolor='white', label='Sevgilisi Tarafından')\n",
    "plt.bar(r4, datamiz[3], color='purple', width=barWidth, edgecolor='white', label='Kocası Tarafından')\n",
    "plt.xlabel('Duygusal İlişki Kurulan İnsanlar Tarafından Öldürülen Kadınlar', fontweight='bold')\n",
    "plt.xticks([r + barWidth for r in range(len(datamiz[0]))], ['2008', '2009', '2010', '2011', '2012','2013', '2014', '2015', '2016', '2017','2018', '2019', '2020'])\n",
    "plt.legend()\n",
    "plt.show()\n"
   ]
  },
  {
   "cell_type": "markdown",
   "execution_count": null,
   "metadata": {
    "papermill": {
     "duration": 0.016199,
     "end_time": "2020-08-21T23:57:09.398337",
     "exception": false,
     "start_time": "2020-08-21T23:57:09.382138",
     "status": "completed"
    },
    "tags": []
   },
   "source": [
    "<a id = \"12\"></a>\n",
    "<font color = \"#800000\">\n",
    "## **Bölgelere Göre Pie Chart Grafiği**\n"
   ]
  },
  {
   "cell_type": "code",
   "execution_count": 18,
   "metadata": {
    "execution": {
     "iopub.execute_input": "2020-08-21T23:57:09.475938Z",
     "iopub.status.busy": "2020-08-21T23:57:09.460837Z",
     "iopub.status.idle": "2020-08-21T23:57:17.572512Z",
     "shell.execute_reply": "2020-08-21T23:57:17.571827Z"
    },
    "papermill": {
     "duration": 8.1579,
     "end_time": "2020-08-21T23:57:17.572710",
     "exception": false,
     "start_time": "2020-08-21T23:57:09.414810",
     "status": "completed"
    },
    "tags": []
   },
   "outputs": [
    {
     "data": {
      "text/plain": [
       "[1220, 482, 282, 280, 250, 179, 169, 110]"
      ]
     },
     "execution_count": 18,
     "metadata": {},
     "output_type": "execute_result"
    }
   ],
   "source": [
    "Bolgeler= pd.DataFrame({'AkdenizBolgesi': ['Adana', 'Antalya', 'Mersin' , 'Burdur' , 'Hatay' , 'Isparta' , 'Kahramanmaras' , 'Osmaniye', '','','','','','','','','',''], \n",
    "              'EgeBolgesi': ['Izmir', 'Mugla' , 'Aydin' , 'Afyonkarahisar' , 'Denizli', 'Kutahya' , 'Manisa', 'Usak','','','','','','','','','',''], \n",
    "              'MarmaraBolgesi' : ['Balikesir', 'Bilecik' , 'Bursa' , 'Canakkale', 'Edirne', 'Istanbul', 'Kirklareli', 'Kocaeli' , 'Izmit', 'Sakarya', 'Tekirdağ' ,'Yalova','','','','','',''],\n",
    "              'DoguAnadoluBolgesi' : ['Agri', 'Ardahan', 'Bingol', 'Bitlis', 'Elazig', 'Erzincan' , 'Erzurum', 'Hakkari', 'Igdir', 'Kars', 'Malatya','Mus', 'Tunceli', 'Van','','','',''] ,\n",
    "              'IcAnadoluBolgesi': ['Aksaray', 'Ankara', 'Cankiri', 'Eskisehir', 'Karaman', 'Kayseri', 'Kirikkale', 'Kirsehir', 'Konya', 'Nevsehir', 'Nigde', 'Sivas','Yozgat','','','','',''],\n",
    "              'GuneydoguAnadoluBolgesi' : ['Adiyaman', 'Batman', 'Diyarbakir', 'Gaziantep', 'Mardin', 'Siirt', 'Sanliurfa', 'Urfa', 'Sirnak', 'Kilis','','','','','','','',''],\n",
    "              'KaradenizBolgesi' : ['Trabzon' , 'Amasya', 'Artvin', 'Bartın' , 'Bayburt', 'Bolu', 'Corum', 'Duzce', 'Giresun', 'Gumushane', 'Karabuk', 'Kastamonu', 'Ordu', 'Rize', 'Samsun', 'Sinop', 'Tokat', 'Zonguldak'] })\n",
    "akdenizcount = 0 \n",
    "egecount = 0\n",
    "marmaracount = 0\n",
    "doguanadolucount=0 \n",
    "icanadolucount = 0\n",
    "guneydogucount=0\n",
    "karadenizcount =0\n",
    "nancount= 0\n",
    "for i in range (0,2972):\n",
    "    for j in range (0, 18):\n",
    "    #if data.city == deneme.AkdenizBolgesi[i]:\n",
    "        #count = count + \n",
    "        x = np.where((data.city[i] == Bolgeler.AkdenizBolgesi[j]), 1 ,0)\n",
    "        if x :\n",
    "            akdenizcount = akdenizcount +1\n",
    "            break\n",
    "        else :\n",
    "            y = np.where((data.city[i] == Bolgeler.EgeBolgesi[j]), 1 , 0)\n",
    "            if y : \n",
    "                egecount= egecount +1\n",
    "                break\n",
    "            else : \n",
    "                z = np.where((data.city[i] == Bolgeler.MarmaraBolgesi[j]), 1 ,0)\n",
    "                if z : \n",
    "                    marmaracount= marmaracount +1\n",
    "                    break\n",
    "                else:\n",
    "                    t = np.where((data.city[i] == Bolgeler.DoguAnadoluBolgesi[j]), 1 , 0)\n",
    "                    if t :\n",
    "                        doguanadolucount = doguanadolucount +1\n",
    "                        break\n",
    "                    else :    \n",
    "                        w = np.where((data.city[i] == Bolgeler.IcAnadoluBolgesi[j]), 1 ,0)\n",
    "                        if w : \n",
    "                            icanadolucount = icanadolucount + 1 \n",
    "                            break\n",
    "                        else:\n",
    "                            r = np.where((data.city[i] == Bolgeler.GuneydoguAnadoluBolgesi[j]), 1 , 0)\n",
    "                            if r :\n",
    "                                guneydogucount = guneydogucount + 1 \n",
    "                                break\n",
    "                            else: \n",
    "                                v = np.where((data.city[i] == Bolgeler.KaradenizBolgesi[j]), 1 , 0)\n",
    "                                if v: \n",
    "                                    karadenizcount = karadenizcount +1\n",
    "                                    break\n",
    "                                else:\n",
    "                                    if( j == 17):\n",
    "                                        nancount = nancount +1\n",
    "bolgeyegoreliste = [akdenizcount,egecount,marmaracount,icanadolucount,doguanadolucount,guneydogucount,karadenizcount,nancount]\n",
    "bolgeyegoreliste.sort()\n",
    "bolgeyegoreliste = bolgeyegoreliste[::-1]\n",
    "bolgeyegoreliste"
   ]
  },
  {
   "cell_type": "code",
   "execution_count": 19,
   "metadata": {
    "execution": {
     "iopub.execute_input": "2020-08-21T23:57:17.616917Z",
     "iopub.status.busy": "2020-08-21T23:57:17.616047Z",
     "iopub.status.idle": "2020-08-21T23:57:17.620898Z",
     "shell.execute_reply": "2020-08-21T23:57:17.620152Z"
    },
    "papermill": {
     "duration": 0.030676,
     "end_time": "2020-08-21T23:57:17.621027",
     "exception": false,
     "start_time": "2020-08-21T23:57:17.590351",
     "status": "completed"
    },
    "tags": []
   },
   "outputs": [
    {
     "data": {
      "text/plain": [
       "nan          1180\n",
       "Istanbul      296\n",
       "Izmir         122\n",
       "Antalya        91\n",
       "Ankara         85\n",
       "Bursa          83\n",
       "Adana          79\n",
       "Konya          62\n",
       "Gaziantep      57\n",
       "Mersin         54\n",
       "Name: city, dtype: int64"
      ]
     },
     "execution_count": 19,
     "metadata": {},
     "output_type": "execute_result"
    }
   ],
   "source": [
    "data.city.value_counts().head(10)"
   ]
  },
  {
   "cell_type": "code",
   "execution_count": 20,
   "metadata": {
    "execution": {
     "iopub.execute_input": "2020-08-21T23:57:17.676994Z",
     "iopub.status.busy": "2020-08-21T23:57:17.676199Z",
     "iopub.status.idle": "2020-08-21T23:57:17.803521Z",
     "shell.execute_reply": "2020-08-21T23:57:17.802895Z"
    },
    "papermill": {
     "duration": 0.165787,
     "end_time": "2020-08-21T23:57:17.803660",
     "exception": false,
     "start_time": "2020-08-21T23:57:17.637873",
     "status": "completed"
    },
    "tags": []
   },
   "outputs": [
    {
     "data": {
      "image/png": "[encoded data removed]",
      "text/plain": [
       "<Figure size 576x576 with 1 Axes>"
      ]
     },
     "metadata": {},
     "output_type": "display_data"
    }
   ],
   "source": [
    "counts = pd.Series([1220, 482, 282, 280, 250, 179, 169, 110],index = ['','','','','','','',''] )\n",
    "\n",
    "explode = (0.075, 0.025, 0.025, 0.025, 0.025, 0.025, 0.025,0.025)\n",
    "colors = ['#191970', '#001CF0', '#0038E2', '#0055D4', '#0071C6', '#008DB8', '#00AAAA',\n",
    "          '#00C69C', '#00E28E', '#00FF80','#00FF80' ,]\n",
    "index1 = ['Tespit Edilemeyen','Marmara','Akdeniz','Ege','İç Anadolu','Güneydoğu Anadolu','Karadeniz','Doğu Anadolu']\n",
    "counts.plot(kind='pie', fontsize=14, colors=colors, explode=explode,figsize = (8,8), autopct = \"%1.1f%%\" ,startangle = 15 ,textprops = dict(color = 'w'))\n",
    "plt.axis('equal')\n",
    "plt.ylabel('')\n",
    "plt.legend(labels=index1, loc=\"upper right\")\n",
    "plt.show()"
   ]
  },
  {
   "cell_type": "markdown",
   "execution_count": null,
   "metadata": {
    "papermill": {
     "duration": 0.017118,
     "end_time": "2020-08-21T23:57:17.838757",
     "exception": false,
     "start_time": "2020-08-21T23:57:17.821639",
     "status": "completed"
    },
    "tags": []
   },
   "source": [
    "<a id = \"13\"></a>\n",
    "<font color = \"#800000\">\n",
    "## **Şehirlere Göre Pie Chart Grafiği**\n"
   ]
  },
  {
   "cell_type": "code",
   "execution_count": 21,
   "metadata": {
    "execution": {
     "iopub.execute_input": "2020-08-21T23:57:17.898826Z",
     "iopub.status.busy": "2020-08-21T23:57:17.897915Z",
     "iopub.status.idle": "2020-08-21T23:57:18.060043Z",
     "shell.execute_reply": "2020-08-21T23:57:18.060688Z"
    },
    "papermill": {
     "duration": 0.204373,
     "end_time": "2020-08-21T23:57:18.060867",
     "exception": false,
     "start_time": "2020-08-21T23:57:17.856494",
     "status": "completed"
    },
    "tags": []
   },
   "outputs": [
    {
     "data": {
      "image/png": "[encoded data removed]",
      "text/plain": [
       "<Figure size 576x576 with 1 Axes>"
      ]
     },
     "metadata": {},
     "output_type": "display_data"
    }
   ],
   "source": [
    "degerler3 = data.city.value_counts().head(10)\n",
    "colors = ['#191970', '#001CF0', '#0038E2', '#0055D4', '#0071C6', '#008DB8', '#00AAAA',\n",
    "          '#00C69C', '#00E28E', '#00FF80','#00FF80' ,]\n",
    "explode = (0.075, 0.025, 0.025, 0.025, 0.025, 0.025, 0.025,0.025, 0.025,0.025)\n",
    "sehirler = degerler3.plot(kind='pie'  , textprops = dict(color = 'w'),figsize = (8, 8),colors = colors ,explode = explode, startangle = 20 , shadow = False , autopct = \"%1.1f%%\", fontsize=14)\n",
    "sehirler.set_title(\"İlk 10 ile göre ölüm oranları\")\n",
    "sehirler.set_ylabel(\"\" )\n",
    "indexsehirler = ['Bilinemeyen','İstanbul','İzmir','Ankara','Bursa','Antalya','Adana','Konya','Gaziantep' , 'Mersin' ]\n",
    "plt.axis('equal')\n",
    "plt.legend(labels = indexsehirler , loc = 'upper right' , fontsize = 10)\n",
    "plt.ylabel('')\n",
    "plt.show()"
   ]
  },
  {
   "cell_type": "markdown",
   "execution_count": null,
   "metadata": {
    "papermill": {
     "duration": 0.018258,
     "end_time": "2020-08-21T23:57:18.097744",
     "exception": false,
     "start_time": "2020-08-21T23:57:18.079486",
     "status": "completed"
    },
    "tags": []
   },
   "source": [
    "<a id = \"14\"></a>\n",
    "<font color = \"#800000\">\n",
    "## **Öldürülme Sebeplerine Göre Pie Chart Grafiği**\n"
   ]
  },
  {
   "cell_type": "code",
   "execution_count": 22,
   "metadata": {
    "execution": {
     "iopub.execute_input": "2020-08-21T23:57:18.161173Z",
     "iopub.status.busy": "2020-08-21T23:57:18.160384Z",
     "iopub.status.idle": "2020-08-21T23:57:18.341423Z",
     "shell.execute_reply": "2020-08-21T23:57:18.341964Z"
    },
    "papermill": {
     "duration": 0.226051,
     "end_time": "2020-08-21T23:57:18.342132",
     "exception": false,
     "start_time": "2020-08-21T23:57:18.116081",
     "status": "completed"
    },
    "tags": []
   },
   "outputs": [
    {
     "data": {
      "image/png": "[encoded data removed]",
      "text/plain": [
       "<Figure size 720x576 with 1 Axes>"
      ]
     },
     "metadata": {},
     "output_type": "display_data"
    }
   ],
   "source": [
    "\n",
    "counts = data.why1.value_counts().head(10)\n",
    "explode = (0.075, 0.025, 0.025, 0.025, 0.025, 0.025, 0.025,0.025,0.025,0.025)\n",
    "colors = ['#7a0100', '#d30000', '#ee2c2c', '#ff3030', '#ff4040', '#ff5656', '#ff6b6b',\n",
    "          '#ff8484', '#ffaaaa', '#fcbfbf','#00FF80' ,]\n",
    "index = ['Tespit Edilemeyen','Tartışma','Kıskançlık','Boşanma Talebi','Reddedilme','Para','Boşanma','Erkeğin istediği bir şeyin gerçekleşmemesi','Ayrılma Talebi','Namus']\n",
    "counts.plot(kind='pie', fontsize=14, colors=colors, explode=explode,figsize = (10,8), autopct = \"%1.1f%%\" ,startangle = 20,textprops = dict(color = 'w') )\n",
    "plt.axis('equal')\n",
    "plt.ylabel('')\n",
    "plt.legend(labels = index,loc = 'upper right')\n",
    "plt.show()"
   ]
  },
  {
   "cell_type": "markdown",
   "execution_count": null,
   "metadata": {
    "papermill": {
     "duration": 0.018733,
     "end_time": "2020-08-21T23:57:18.380327",
     "exception": false,
     "start_time": "2020-08-21T23:57:18.361594",
     "status": "completed"
    },
    "tags": []
   },
   "source": [
    "<a id = '15'> </a>\n",
    "## Kaynaklar\n",
    "\n",
    "* https://www.hurriyet.com.tr\n",
    "* https://www.sozcu.com.tr\n",
    "* http://anitsayac.com"
   ]
  },
  {
   "cell_type": "markdown",
   "execution_count": null,
   "metadata": {
    "papermill": {
     "duration": 0.018588,
     "end_time": "2020-08-21T23:57:18.418288",
     "exception": false,
     "start_time": "2020-08-21T23:57:18.399700",
     "status": "completed"
    },
    "tags": []
   },
   "source": [
    "<a id = '16' > </a>\n",
    "## Teammates\n",
    "\n",
    "* Yağmur Sezen Demir\n",
    "* Büşra Durak \n"
   ]
  }
 ],
 "metadata": {
  "kernelspec": {
   "display_name": "Python 3",
   "language": "python",
   "name": "python3"
  },
  "language_info": {
   "codemirror_mode": {
    "name": "ipython",
    "version": 3
   },
   "file_extension": ".py",
   "mimetype": "text/x-python",
   "name": "python",
   "nbconvert_exporter": "python",
   "pygments_lexer": "ipython3",
   "version": "3.7.6"
  },
  "papermill": {
   "duration": 18.425175,
   "end_time": "2020-08-21T23:57:18.545900",
   "environment_variables": {},
   "exception": null,
   "input_path": "__notebook__.ipynb",
   "output_path": "__notebook__.ipynb",
   "parameters": {},
   "start_time": "2020-08-21T23:57:00.120725",
   "version": "2.1.0"
  }
 },
 "nbformat": 4,
 "nbformat_minor": 4
}
